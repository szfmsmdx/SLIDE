{
 "cells": [
  {
   "cell_type": "code",
   "execution_count": null,
   "metadata": {},
   "outputs": [],
   "source": [
    "from Net import Net\n",
    "from layer import Connected, Convolution, Pooling\n",
    "import GenerateDataAndPlot as gp\n",
    "import numpy as np\n",
    "import pandas as pd"
   ]
  },
  {
   "cell_type": "code",
   "execution_count": null,
   "metadata": {},
   "outputs": [],
   "source": [
    "# 读取鸢尾花数据\n",
    "data = pd.read_csv('./data/iris.csv')\n",
    "print(len(data))\n",
    "print(data.head())"
   ]
  },
  {
   "cell_type": "code",
   "execution_count": null,
   "metadata": {},
   "outputs": [],
   "source": [
    "# 去掉 ID列\n",
    "data = data.drop('Id', axis=1)\n",
    "\n",
    "# 将种类转化为数字\n",
    "data['Species'] = data['Species'].map({'Iris-setosa': 0, 'Iris-versicolor': 1, 'Iris-virginica': 2})\n",
    "\n",
    "# 分割数据集, train:test = 8:2\n",
    "train_data = data.sample(frac=0.8, random_state=200)\n",
    "test_data = data.drop(train_data.index)\n",
    "# print(train_data.head())\n",
    "# print(test_data.head())\n",
    "train_x = train_data.drop('Species', axis=1).values\n",
    "train_y = train_data['Species'].values\n",
    "test_x = test_data.drop('Species', axis=1).values\n",
    "test_y = test_data['Species'].values"
   ]
  },
  {
   "cell_type": "code",
   "execution_count": null,
   "metadata": {},
   "outputs": [],
   "source": [
    "# 初始化网络\n",
    "net = Net()\n",
    "net.add(Connected(shape=(4, 5), activate='ReLU'))\n",
    "net.add(Connected(shape=(5, 3), activate='Softmax'))"
   ]
  },
  {
   "cell_type": "code",
   "execution_count": null,
   "metadata": {},
   "outputs": [],
   "source": [
    "net.set(learning_rate=0.5, loss_function='MSE', epoch=10, batch_size=5, optimizer='SGD')"
   ]
  },
  {
   "cell_type": "code",
   "execution_count": null,
   "metadata": {},
   "outputs": [],
   "source": [
    "net.train(train_x, train_y)"
   ]
  },
  {
   "cell_type": "code",
   "execution_count": null,
   "metadata": {},
   "outputs": [],
   "source": [
    "net.eval(test_x, test_y, isAccuracy=True)"
   ]
  },
  {
   "cell_type": "code",
   "execution_count": null,
   "metadata": {},
   "outputs": [],
   "source": [
    "gp.plot_csv(net.model_path + '/train_loss.csv', ylabel='Train loss', title='Train loss')"
   ]
  }
 ],
 "metadata": {
  "kernelspec": {
   "display_name": "base",
   "language": "python",
   "name": "python3"
  },
  "language_info": {
   "codemirror_mode": {
    "name": "ipython",
    "version": 3
   },
   "file_extension": ".py",
   "mimetype": "text/x-python",
   "name": "python",
   "nbconvert_exporter": "python",
   "pygments_lexer": "ipython3",
   "version": "3.11.5"
  }
 },
 "nbformat": 4,
 "nbformat_minor": 2
}
